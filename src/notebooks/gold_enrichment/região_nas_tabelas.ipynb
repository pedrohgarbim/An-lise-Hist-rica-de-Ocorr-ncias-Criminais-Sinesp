{
 "cells": [
  {
   "cell_type": "markdown",
   "metadata": {
    "application/vnd.databricks.v1+cell": {
     "cellMetadata": {
      "byteLimit": 2048000,
      "rowLimit": 10000
     },
     "inputWidgets": {},
     "nuid": "4b3e298b-d123-46a7-af1a-6f0f879f5e68",
     "showTitle": false,
     "tableResultSettingsMap": {},
     "title": ""
    }
   },
   "source": [
    "## mapeamento dos estados e suas regiões"
   ]
  },
  {
   "cell_type": "code",
   "execution_count": 0,
   "metadata": {
    "application/vnd.databricks.v1+cell": {
     "cellMetadata": {
      "byteLimit": 2048000,
      "rowLimit": 10000
     },
     "inputWidgets": {},
     "nuid": "c71b4505-1c5b-4b3f-91b7-6e0ac33f8582",
     "showTitle": false,
     "tableResultSettingsMap": {},
     "title": ""
    }
   },
   "outputs": [],
   "source": [
    "# estados e suas regiões\n",
    "regioes = {\n",
    "    \"AC\": \"NORTE\", \"AP\": \"NORTE\", \"AM\": \"NORTE\", \"PA\": \"NORTE\", \"RO\": \"NORTE\", \"RR\": \"NORTE\", \"TO\": \"NORTE\",\n",
    "    \"AL\": \"NORDESTE\", \"BA\": \"NORDESTE\", \"CE\": \"NORDESTE\", \"MA\": \"NORDESTE\", \"PB\": \"NORDESTE\", \"PE\": \"NORDESTE\",\n",
    "    \"PI\": \"NORDESTE\", \"RN\": \"NORDESTE\", \"SE\": \"NORDESTE\",\n",
    "    \"DF\": \"CENTRO-OESTE\", \"GO\": \"CENTRO-OESTE\", \"MT\": \"CENTRO-OESTE\", \"MS\": \"CENTRO-OESTE\",\n",
    "    \"ES\": \"SUDESTE\", \"MG\": \"SUDESTE\", \"RJ\": \"SUDESTE\", \"SP\": \"SUDESTE\",\n",
    "    \"PR\": \"SUL\", \"RS\": \"SUL\", \"SC\": \"SUL\"\n",
    "}"
   ]
  },
  {
   "cell_type": "code",
   "execution_count": 0,
   "metadata": {
    "application/vnd.databricks.v1+cell": {
     "cellMetadata": {
      "byteLimit": 2048000,
      "rowLimit": 10000
     },
     "inputWidgets": {},
     "nuid": "9ae476b7-8cd1-4cd7-840c-b986d79c7e56",
     "showTitle": false,
     "tableResultSettingsMap": {},
     "title": ""
    }
   },
   "outputs": [],
   "source": [
    "from pyspark.sql import functions as F"
   ]
  },
  {
   "cell_type": "markdown",
   "metadata": {
    "application/vnd.databricks.v1+cell": {
     "cellMetadata": {
      "byteLimit": 2048000,
      "rowLimit": 10000
     },
     "inputWidgets": {},
     "nuid": "ab90d88b-6595-4d66-bc10-0c2b184a241f",
     "showTitle": false,
     "tableResultSettingsMap": {},
     "title": ""
    }
   },
   "source": [
    "## uf_vitimas"
   ]
  },
  {
   "cell_type": "code",
   "execution_count": 0,
   "metadata": {
    "application/vnd.databricks.v1+cell": {
     "cellMetadata": {
      "byteLimit": 2048000,
      "rowLimit": 10000
     },
     "inputWidgets": {},
     "nuid": "63569f00-1b4d-4623-bbfa-d955b6e8ac5d",
     "showTitle": false,
     "tableResultSettingsMap": {},
     "title": ""
    }
   },
   "outputs": [],
   "source": [
    "df_vitimas = spark.table(\"sinesp.silver.uf_vitimas\")\n",
    "\n",
    "df_vitimas_gold = (\n",
    "    df_vitimas\n",
    "    .withColumn(\"regiao\",\n",
    "        F.when(F.col(\"uf_sigla\").isin(\"AC\",\"AP\",\"AM\",\"PA\",\"RO\",\"RR\",\"TO\"), \"NORTE\")\n",
    "         .when(F.col(\"uf_sigla\").isin(\"AL\",\"BA\",\"CE\",\"MA\",\"PB\",\"PE\",\"PI\",\"RN\",\"SE\"), \"NORDESTE\")\n",
    "         .when(F.col(\"uf_sigla\").isin(\"DF\",\"GO\",\"MT\",\"MS\"), \"CENTRO-OESTE\")\n",
    "         .when(F.col(\"uf_sigla\").isin(\"ES\",\"MG\",\"RJ\",\"SP\"), \"SUDESTE\")\n",
    "         .when(F.col(\"uf_sigla\").isin(\"PR\",\"RS\",\"SC\"), \"SUL\")\n",
    "    )\n",
    "      .select(\n",
    "        \"uf_sigla\",\n",
    "        \"uf_nome\",\n",
    "        \"regiao\",   \n",
    "        \"tipo_crime\",\n",
    "        \"sexo_vitima\",\n",
    "        \"ano\",\n",
    "        \"mes\",\n",
    "        \"vitimas\"\n",
    "    )\n",
    ")\n",
    "df_vitimas_gold.write.format(\"delta\").mode(\"overwrite\").saveAsTable(\"sinesp.gold.uf_vitimas\")"
   ]
  },
  {
   "cell_type": "markdown",
   "metadata": {
    "application/vnd.databricks.v1+cell": {
     "cellMetadata": {
      "byteLimit": 2048000,
      "rowLimit": 10000
     },
     "inputWidgets": {},
     "nuid": "b424dffb-be7b-4fb3-80b5-e7657fc8ea6d",
     "showTitle": false,
     "tableResultSettingsMap": {},
     "title": ""
    }
   },
   "source": [
    "## uf_ocorrencias"
   ]
  },
  {
   "cell_type": "code",
   "execution_count": 0,
   "metadata": {
    "application/vnd.databricks.v1+cell": {
     "cellMetadata": {
      "byteLimit": 2048000,
      "rowLimit": 10000
     },
     "inputWidgets": {},
     "nuid": "f05803fe-5cf2-405e-a517-2f17c02ea0de",
     "showTitle": false,
     "tableResultSettingsMap": {},
     "title": ""
    }
   },
   "outputs": [],
   "source": [
    "df_ocorrencias = spark.table(\"sinesp.silver.uf_ocorrencias\")\n",
    "\n",
    "df_ocorrencias_gold = (\n",
    "    df_ocorrencias\n",
    "    .withColumn(\"regiao\",\n",
    "        F.when(F.col(\"uf_sigla\").isin(\"AC\",\"AP\",\"AM\",\"PA\",\"RO\",\"RR\",\"TO\"), \"NORTE\")\n",
    "         .when(F.col(\"uf_sigla\").isin(\"AL\",\"BA\",\"CE\",\"MA\",\"PB\",\"PE\",\"PI\",\"RN\",\"SE\"), \"NORDESTE\")\n",
    "         .when(F.col(\"uf_sigla\").isin(\"DF\",\"GO\",\"MT\",\"MS\"), \"CENTRO-OESTE\")\n",
    "         .when(F.col(\"uf_sigla\").isin(\"ES\",\"MG\",\"RJ\",\"SP\"), \"SUDESTE\")\n",
    "         .when(F.col(\"uf_sigla\").isin(\"PR\",\"RS\",\"SC\"), \"SUL\")\n",
    "    )\n",
    "    .select(\n",
    "        \"uf_nome\",\n",
    "        \"uf_sigla\",\n",
    "        \"regiao\",  \n",
    "        \"tipo_crime\",\n",
    "        \"ano\",\n",
    "        \"mes\",\n",
    "        \"ocorrencias\"\n",
    "    )\n",
    ")\n",
    "df_ocorrencias_gold.write.format(\"delta\").mode(\"overwrite\").saveAsTable(\"sinesp.gold.uf_ocorrencias\")"
   ]
  }
 ],
 "metadata": {
  "application/vnd.databricks.v1+notebook": {
   "computePreferences": {
    "hardware": {
     "accelerator": null,
     "gpuPoolId": null,
     "memory": null
    }
   },
   "dashboards": [],
   "environmentMetadata": {
    "base_environment": "",
    "environment_version": "3"
   },
   "inputWidgetPreferences": null,
   "language": "python",
   "notebookMetadata": {
    "pythonIndentUnit": 4
   },
   "notebookName": "região_nas_tabelas",
   "widgets": {}
  },
  "language_info": {
   "name": "python"
  }
 },
 "nbformat": 4,
 "nbformat_minor": 0
}
