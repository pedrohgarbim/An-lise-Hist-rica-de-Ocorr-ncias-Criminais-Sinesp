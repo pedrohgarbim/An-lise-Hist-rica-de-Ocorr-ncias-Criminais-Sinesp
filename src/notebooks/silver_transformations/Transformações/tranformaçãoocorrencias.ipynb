{
 "cells": [
  {
   "cell_type": "markdown",
   "metadata": {
    "application/vnd.databricks.v1+cell": {
     "cellMetadata": {},
     "inputWidgets": {},
     "nuid": "3727d33a-732c-4788-a3a7-efd036c1cc11",
     "showTitle": false,
     "tableResultSettingsMap": {},
     "title": ""
    }
   },
   "source": [
    "## Ajuste na tabela"
   ]
  },
  {
   "cell_type": "code",
   "execution_count": 0,
   "metadata": {
    "application/vnd.databricks.v1+cell": {
     "cellMetadata": {
      "byteLimit": 2048000,
      "rowLimit": 10000
     },
     "inputWidgets": {},
     "nuid": "9ea5a514-a46e-4bc8-90e9-299e16e193ea",
     "showTitle": false,
     "tableResultSettingsMap": {
      "0": {
       "dataGridStateBlob": "{\"version\":1,\"tableState\":{\"columnPinning\":{\"left\":[\"#row_number#\"],\"right\":[]},\"columnSizing\":{},\"columnVisibility\":{}},\"settings\":{\"columns\":{}},\"syncTimestamp\":1756152560110}",
       "filterBlob": null,
       "queryPlanFiltersBlob": null,
       "tableResultIndex": 0
      }
     },
     "title": ""
    }
   },
   "outputs": [],
   "source": [
    "from pyspark.sql import functions as F\n",
    "\n",
    "dfb = spark.table(\"sinesp.bronze.ufocorrencias\")\n",
    "ocorrencias_silver = (\n",
    "    dfb\n",
    "    .withColumnRenamed(\"year\", \"ano\")\n",
    "    .withColumnRenamed(\"month\", \"mes\")\n",
    "    .select(\n",
    "        F.initcap(\"uf_nome\").alias(\"uf_nome\"),\n",
    "        F.upper(\"uf_sigla\").alias(\"uf_sigla\"),\n",
    "        \"tipo_crime\",\n",
    "        \"ano\", \"mes\",               # 👉 lado a lado\n",
    "        F.col(\"ocorrencias\").cast(\"int\").alias(\"ocorrencias\")\n",
    "    )\n",
    ")\n",
    "display(ocorrencias_silver.filter(\"uf_sigla = 'SP'\"))"
   ]
  },
  {
   "cell_type": "markdown",
   "metadata": {
    "application/vnd.databricks.v1+cell": {
     "cellMetadata": {},
     "inputWidgets": {},
     "nuid": "905ebc8c-bc4e-4f33-9d9c-b83ec775e315",
     "showTitle": false,
     "tableResultSettingsMap": {},
     "title": ""
    }
   },
   "source": [
    "## Salvar na Silver\n"
   ]
  },
  {
   "cell_type": "code",
   "execution_count": 0,
   "metadata": {
    "application/vnd.databricks.v1+cell": {
     "cellMetadata": {
      "byteLimit": 2048000,
      "rowLimit": 10000
     },
     "inputWidgets": {},
     "nuid": "5f851bf7-d574-4169-a9a7-a226b0944b8a",
     "showTitle": false,
     "tableResultSettingsMap": {},
     "title": ""
    }
   },
   "outputs": [],
   "source": [
    "(\n",
    "    ocorrencias_silver.write\n",
    "    .format(\"delta\")\n",
    "    .mode(\"overwrite\")\n",
    "    .option(\"overwriteSchema\", \"true\")\n",
    "    .saveAsTable(\"sinesp.silver.ufocorrencias\")\n",
    ")\n",
    "\n",
    "print(\"✓ Tabela Silver 'ufocorrencias' criada com sucesso\")"
   ]
  }
 ],
 "metadata": {
  "application/vnd.databricks.v1+notebook": {
   "computePreferences": null,
   "dashboards": [],
   "environmentMetadata": {
    "base_environment": "",
    "environment_version": "3"
   },
   "inputWidgetPreferences": null,
   "language": "python",
   "notebookMetadata": {
    "pythonIndentUnit": 4
   },
   "notebookName": "tranformaçãoocorrencias",
   "widgets": {}
  },
  "language_info": {
   "name": "python"
  }
 },
 "nbformat": 4,
 "nbformat_minor": 0
}
