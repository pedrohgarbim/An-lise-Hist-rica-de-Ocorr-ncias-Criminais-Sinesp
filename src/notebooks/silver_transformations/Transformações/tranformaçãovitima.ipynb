{
 "cells": [
  {
   "cell_type": "markdown",
   "metadata": {
    "application/vnd.databricks.v1+cell": {
     "cellMetadata": {},
     "inputWidgets": {},
     "nuid": "ec515cbc-6308-4278-820c-60f932e28ef7",
     "showTitle": false,
     "tableResultSettingsMap": {},
     "title": ""
    }
   },
   "source": [
    "## Ajuste na tabela"
   ]
  },
  {
   "cell_type": "code",
   "execution_count": 0,
   "metadata": {
    "application/vnd.databricks.v1+cell": {
     "cellMetadata": {
      "byteLimit": 2048000,
      "rowLimit": 10000
     },
     "inputWidgets": {},
     "nuid": "efa0366f-ee74-4dab-bcc3-252a6740d8fd",
     "showTitle": false,
     "tableResultSettingsMap": {},
     "title": ""
    }
   },
   "outputs": [],
   "source": [
    "from pyspark.sql import functions as F\n",
    "\n",
    "dfb = spark.table(\"sinesp.bronze.ufvitimas\")\n",
    "\n",
    "vitimas_silver = (\n",
    "    dfb\n",
    "    .withColumnRenamed(\"year\",  \"ano\")\n",
    "    .withColumnRenamed(\"month\", \"mes\")\n",
    "    .select(\n",
    "        F.upper(\"uf_sigla\").alias(\"uf_sigla\"),\n",
    "        F.initcap(\"uf_nome\").alias(\"uf_nome\"),\n",
    "        \"tipo_crime\",\n",
    "        F.initcap(\"sexo_vitima\").alias(\"sexo_vitima\"),\n",
    "        \"ano\", \"mes\",\n",
    "        F.col(\"vitimas\").cast(\"int\").alias(\"vitimas\")\n",
    "    )\n",
    ")"
   ]
  },
  {
   "cell_type": "markdown",
   "metadata": {
    "application/vnd.databricks.v1+cell": {
     "cellMetadata": {},
     "inputWidgets": {},
     "nuid": "568e158f-2e77-4762-9d7e-bddaeb7bcd73",
     "showTitle": false,
     "tableResultSettingsMap": {},
     "title": ""
    }
   },
   "source": [
    "## Salvar na Silver"
   ]
  },
  {
   "cell_type": "code",
   "execution_count": 0,
   "metadata": {
    "application/vnd.databricks.v1+cell": {
     "cellMetadata": {
      "byteLimit": 2048000,
      "rowLimit": 10000
     },
     "inputWidgets": {},
     "nuid": "b63375e0-1c60-4189-8b86-ac78f24949a6",
     "showTitle": false,
     "tableResultSettingsMap": {},
     "title": ""
    }
   },
   "outputs": [],
   "source": [
    "(vitimas_silver.write\n",
    "    .format(\"delta\")\n",
    "    .mode(\"overwrite\")\n",
    "    .option(\"overwriteSchema\", \"true\")\n",
    "    .saveAsTable(f\"{SILVER}.uf_vitimas\"))\n",
    "\n",
    "print(\"✓ sinesp.silver.uf_vitimas criada/atualizada\")\n"
   ]
  }
 ],
 "metadata": {
  "application/vnd.databricks.v1+notebook": {
   "computePreferences": null,
   "dashboards": [],
   "environmentMetadata": {
    "base_environment": "",
    "environment_version": "3"
   },
   "inputWidgetPreferences": null,
   "language": "python",
   "notebookMetadata": {
    "pythonIndentUnit": 4
   },
   "notebookName": "tranformaçãovitima",
   "widgets": {}
  },
  "language_info": {
   "name": "python"
  }
 },
 "nbformat": 4,
 "nbformat_minor": 0
}
