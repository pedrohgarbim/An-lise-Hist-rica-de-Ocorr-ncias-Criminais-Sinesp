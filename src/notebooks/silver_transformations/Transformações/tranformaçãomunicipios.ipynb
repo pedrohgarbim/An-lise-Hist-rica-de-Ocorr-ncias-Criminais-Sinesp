{
 "cells": [
  {
   "cell_type": "code",
   "execution_count": 0,
   "metadata": {
    "application/vnd.databricks.v1+cell": {
     "cellMetadata": {
      "byteLimit": 2048000,
      "rowLimit": 10000
     },
     "inputWidgets": {},
     "nuid": "a311cb5b-902a-48ee-bd58-d77800e97f3a",
     "showTitle": false,
     "tableResultSettingsMap": {
      "0": {
       "dataGridStateBlob": "{\"version\":1,\"tableState\":{\"columnPinning\":{\"left\":[\"#row_number#\"],\"right\":[]},\"columnSizing\":{},\"columnVisibility\":{}},\"settings\":{\"columns\":{}},\"syncTimestamp\":1756147944308}",
       "filterBlob": "{\"version\":1,\"filterGroups\":[],\"syncTimestamp\":1756148076660}",
       "queryPlanFiltersBlob": "[]",
       "tableResultIndex": 0
      }
     },
     "title": ""
    }
   },
   "outputs": [],
   "source": [
    "display(spark.read.table(\"sinesp.bronze.municipios_raw_row\"))"
   ]
  },
  {
   "cell_type": "code",
   "execution_count": 0,
   "metadata": {
    "application/vnd.databricks.v1+cell": {
     "cellMetadata": {
      "byteLimit": 2048000,
      "rowLimit": 10000
     },
     "inputWidgets": {},
     "nuid": "f2ce07ac-dab1-4974-8b42-05ba39be6c3d",
     "showTitle": false,
     "tableResultSettingsMap": {},
     "title": ""
    }
   },
   "outputs": [],
   "source": [
    "from pyspark.sql import functions as F\n",
    "# Lê a bronze unificada\n",
    "dfb = spark.table(\"sinesp.bronze.municipios_raw_row\")\n",
    "\n",
    "# Deriva ano/mes a partir de mes_ano quando year/month estão inválidos\n",
    "mes_ano_date = F.to_date(F.col(\"mes_ano\"))   # ex.: 2018-01-01\n",
    "ano_fix = F.when(F.col(\"year\").cast(\"int\") > 0, F.col(\"year\").cast(\"int\")) \\\n",
    "           .otherwise(F.year(mes_ano_date))\n",
    "mes_fix = F.when(F.col(\"month\").cast(\"int\").between(1,12), F.col(\"month\").cast(\"int\")) \\\n",
    "           .otherwise(F.month(mes_ano_date))\n",
    "\n",
    "municipios_silver = (\n",
    "    dfb\n",
    "    .withColumn(\"ano\", ano_fix)\n",
    "    .withColumn(\"mes\", mes_fix)\n",
    "    .select(\n",
    "        F.col(\"cod_ibge\").cast(\"long\").alias(\"cod_ibge\"),\n",
    "        F.initcap(\"municipio\").alias(\"municipio\"),\n",
    "        F.upper(\"uf\").alias(\"uf_sigla\"),\n",
    "        F.upper(\"regiao\").alias(\"regiao\"),\n",
    "        \"ano\", \"mes\",                             \n",
    "        F.col(\"vitimas\").cast(\"int\").alias(\"vitimas\")\n",
    "    )\n",
    "    .where(F.col(\"ano\").isNotNull() & F.col(\"mes\").between(1,12))\n",
    ")\n",
    "\n",
    "display(municipios_silver)\n"
   ]
  },
  {
   "cell_type": "code",
   "execution_count": 0,
   "metadata": {
    "application/vnd.databricks.v1+cell": {
     "cellMetadata": {
      "byteLimit": 2048000,
      "rowLimit": 10000
     },
     "inputWidgets": {},
     "nuid": "d6ca2dcb-43ea-4a70-b73a-30c069c99592",
     "showTitle": false,
     "tableResultSettingsMap": {},
     "title": ""
    }
   },
   "outputs": [],
   "source": [
    "(municipios_silver.write\n",
    "    .format(\"delta\")\n",
    "    .mode(\"overwrite\")\n",
    "    .option(\"overwriteSchema\",\"true\")\n",
    "    .saveAsTable(\"sinesp.silver.municipios_vitimas\"))\n",
    "\n",
    "print(\"✓ sinesp.silver.municipios_vitimas criada/atualizada (ano/mes corrigidos)\")"
   ]
  }
 ],
 "metadata": {
  "application/vnd.databricks.v1+notebook": {
   "computePreferences": null,
   "dashboards": [],
   "environmentMetadata": {
    "base_environment": "",
    "environment_version": "3"
   },
   "inputWidgetPreferences": null,
   "language": "python",
   "notebookMetadata": {
    "pythonIndentUnit": 4
   },
   "notebookName": "tranformaçãomunicipios",
   "widgets": {}
  },
  "language_info": {
   "name": "python"
  }
 },
 "nbformat": 4,
 "nbformat_minor": 0
}
